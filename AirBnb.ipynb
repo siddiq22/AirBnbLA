{
 "cells": [
  {
   "cell_type": "code",
   "execution_count": 1,
   "id": "a86b4aca",
   "metadata": {},
   "outputs": [],
   "source": [
    "import pandas as pd\n",
    "import numpy as np\n",
    "import seaborn as sns\n",
    "import matplotlib.pyplot as plt"
   ]
  },
  {
   "cell_type": "code",
   "execution_count": 2,
   "id": "18837e34",
   "metadata": {},
   "outputs": [],
   "source": [
    "df=pd.read_csv('listings.csv')"
   ]
  },
  {
   "cell_type": "code",
   "execution_count": 3,
   "id": "02cca2aa",
   "metadata": {},
   "outputs": [
    {
     "name": "stdout",
     "output_type": "stream",
     "text": [
      "<class 'pandas.core.frame.DataFrame'>\n",
      "RangeIndex: 45533 entries, 0 to 45532\n",
      "Data columns (total 18 columns):\n",
      " #   Column                          Non-Null Count  Dtype  \n",
      "---  ------                          --------------  -----  \n",
      " 0   id                              45533 non-null  int64  \n",
      " 1   name                            45532 non-null  object \n",
      " 2   host_id                         45533 non-null  int64  \n",
      " 3   host_name                       45531 non-null  object \n",
      " 4   neighbourhood_group             45533 non-null  object \n",
      " 5   neighbourhood                   45533 non-null  object \n",
      " 6   latitude                        45533 non-null  float64\n",
      " 7   longitude                       45533 non-null  float64\n",
      " 8   room_type                       45533 non-null  object \n",
      " 9   price                           37296 non-null  float64\n",
      " 10  minimum_nights                  45533 non-null  int64  \n",
      " 11  number_of_reviews               45533 non-null  int64  \n",
      " 12  last_review                     33387 non-null  object \n",
      " 13  reviews_per_month               33387 non-null  float64\n",
      " 14  calculated_host_listings_count  45533 non-null  int64  \n",
      " 15  availability_365                45533 non-null  int64  \n",
      " 16  number_of_reviews_ltm           45533 non-null  int64  \n",
      " 17  license                         12803 non-null  object \n",
      "dtypes: float64(4), int64(7), object(7)\n",
      "memory usage: 6.3+ MB\n"
     ]
    }
   ],
   "source": [
    "df.info()"
   ]
  },
  {
   "cell_type": "code",
   "execution_count": 29,
   "id": "8121b1e6",
   "metadata": {},
   "outputs": [
    {
     "data": {
      "text/html": [
       "<div>\n",
       "<style scoped>\n",
       "    .dataframe tbody tr th:only-of-type {\n",
       "        vertical-align: middle;\n",
       "    }\n",
       "\n",
       "    .dataframe tbody tr th {\n",
       "        vertical-align: top;\n",
       "    }\n",
       "\n",
       "    .dataframe thead th {\n",
       "        text-align: right;\n",
       "    }\n",
       "</style>\n",
       "<table border=\"1\" class=\"dataframe\">\n",
       "  <thead>\n",
       "    <tr style=\"text-align: right;\">\n",
       "      <th></th>\n",
       "      <th>id</th>\n",
       "      <th>host_id</th>\n",
       "      <th>neighbourhood_group</th>\n",
       "      <th>neighbourhood</th>\n",
       "      <th>latitude</th>\n",
       "      <th>longitude</th>\n",
       "      <th>room_type</th>\n",
       "      <th>price</th>\n",
       "      <th>minimum_nights</th>\n",
       "      <th>number_of_reviews</th>\n",
       "      <th>reviews_per_month</th>\n",
       "      <th>calculated_host_listings_count</th>\n",
       "      <th>availability_365</th>\n",
       "    </tr>\n",
       "  </thead>\n",
       "  <tbody>\n",
       "    <tr>\n",
       "      <th>0</th>\n",
       "      <td>37014494</td>\n",
       "      <td>278288178</td>\n",
       "      <td>City of Los Angeles</td>\n",
       "      <td>Beverlywood</td>\n",
       "      <td>34.048410</td>\n",
       "      <td>-118.387510</td>\n",
       "      <td>Entire home/apt</td>\n",
       "      <td>290.277778</td>\n",
       "      <td>30</td>\n",
       "      <td>0</td>\n",
       "      <td>0.0</td>\n",
       "      <td>1</td>\n",
       "      <td>0</td>\n",
       "    </tr>\n",
       "    <tr>\n",
       "      <th>1</th>\n",
       "      <td>1024835174766068422</td>\n",
       "      <td>513813179</td>\n",
       "      <td>Other Cities</td>\n",
       "      <td>Beverly Hills</td>\n",
       "      <td>34.070583</td>\n",
       "      <td>-118.390742</td>\n",
       "      <td>Entire home/apt</td>\n",
       "      <td>434.000000</td>\n",
       "      <td>30</td>\n",
       "      <td>0</td>\n",
       "      <td>0.0</td>\n",
       "      <td>4</td>\n",
       "      <td>267</td>\n",
       "    </tr>\n",
       "    <tr>\n",
       "      <th>2</th>\n",
       "      <td>1211025880050828732</td>\n",
       "      <td>68445028</td>\n",
       "      <td>Other Cities</td>\n",
       "      <td>Beverly Hills</td>\n",
       "      <td>34.065140</td>\n",
       "      <td>-118.375820</td>\n",
       "      <td>Entire home/apt</td>\n",
       "      <td>319.000000</td>\n",
       "      <td>1</td>\n",
       "      <td>0</td>\n",
       "      <td>0.0</td>\n",
       "      <td>25</td>\n",
       "      <td>365</td>\n",
       "    </tr>\n",
       "    <tr>\n",
       "      <th>3</th>\n",
       "      <td>953950676345326970</td>\n",
       "      <td>528669205</td>\n",
       "      <td>Other Cities</td>\n",
       "      <td>Santa Monica</td>\n",
       "      <td>34.015590</td>\n",
       "      <td>-118.494080</td>\n",
       "      <td>Entire home/apt</td>\n",
       "      <td>231.000000</td>\n",
       "      <td>5</td>\n",
       "      <td>44</td>\n",
       "      <td>3.0</td>\n",
       "      <td>3</td>\n",
       "      <td>193</td>\n",
       "    </tr>\n",
       "    <tr>\n",
       "      <th>4</th>\n",
       "      <td>5694422</td>\n",
       "      <td>4151836</td>\n",
       "      <td>City of Los Angeles</td>\n",
       "      <td>Del Rey</td>\n",
       "      <td>33.990170</td>\n",
       "      <td>-118.422520</td>\n",
       "      <td>Entire home/apt</td>\n",
       "      <td>110.000000</td>\n",
       "      <td>30</td>\n",
       "      <td>368</td>\n",
       "      <td>3.0</td>\n",
       "      <td>2</td>\n",
       "      <td>117</td>\n",
       "    </tr>\n",
       "  </tbody>\n",
       "</table>\n",
       "</div>"
      ],
      "text/plain": [
       "                    id    host_id  neighbourhood_group  neighbourhood  \\\n",
       "0             37014494  278288178  City of Los Angeles    Beverlywood   \n",
       "1  1024835174766068422  513813179         Other Cities  Beverly Hills   \n",
       "2  1211025880050828732   68445028         Other Cities  Beverly Hills   \n",
       "3   953950676345326970  528669205         Other Cities   Santa Monica   \n",
       "4              5694422    4151836  City of Los Angeles        Del Rey   \n",
       "\n",
       "    latitude   longitude        room_type       price  minimum_nights  \\\n",
       "0  34.048410 -118.387510  Entire home/apt  290.277778              30   \n",
       "1  34.070583 -118.390742  Entire home/apt  434.000000              30   \n",
       "2  34.065140 -118.375820  Entire home/apt  319.000000               1   \n",
       "3  34.015590 -118.494080  Entire home/apt  231.000000               5   \n",
       "4  33.990170 -118.422520  Entire home/apt  110.000000              30   \n",
       "\n",
       "   number_of_reviews  reviews_per_month  calculated_host_listings_count  \\\n",
       "0                  0                0.0                               1   \n",
       "1                  0                0.0                               4   \n",
       "2                  0                0.0                              25   \n",
       "3                 44                3.0                               3   \n",
       "4                368                3.0                               2   \n",
       "\n",
       "   availability_365  \n",
       "0                 0  \n",
       "1               267  \n",
       "2               365  \n",
       "3               193  \n",
       "4               117  "
      ]
     },
     "execution_count": 29,
     "metadata": {},
     "output_type": "execute_result"
    }
   ],
   "source": [
    "df.head(5)"
   ]
  },
  {
   "cell_type": "code",
   "execution_count": 5,
   "id": "a0135043",
   "metadata": {},
   "outputs": [
    {
     "data": {
      "text/plain": [
       "(45533, 18)"
      ]
     },
     "execution_count": 5,
     "metadata": {},
     "output_type": "execute_result"
    }
   ],
   "source": [
    "df.shape"
   ]
  },
  {
   "cell_type": "code",
   "execution_count": 6,
   "id": "24eeb68b",
   "metadata": {},
   "outputs": [
    {
     "data": {
      "text/html": [
       "<div>\n",
       "<style scoped>\n",
       "    .dataframe tbody tr th:only-of-type {\n",
       "        vertical-align: middle;\n",
       "    }\n",
       "\n",
       "    .dataframe tbody tr th {\n",
       "        vertical-align: top;\n",
       "    }\n",
       "\n",
       "    .dataframe thead th {\n",
       "        text-align: right;\n",
       "    }\n",
       "</style>\n",
       "<table border=\"1\" class=\"dataframe\">\n",
       "  <thead>\n",
       "    <tr style=\"text-align: right;\">\n",
       "      <th></th>\n",
       "      <th>id</th>\n",
       "      <th>host_id</th>\n",
       "      <th>latitude</th>\n",
       "      <th>longitude</th>\n",
       "      <th>price</th>\n",
       "      <th>minimum_nights</th>\n",
       "      <th>number_of_reviews</th>\n",
       "      <th>reviews_per_month</th>\n",
       "      <th>calculated_host_listings_count</th>\n",
       "      <th>availability_365</th>\n",
       "      <th>number_of_reviews_ltm</th>\n",
       "    </tr>\n",
       "  </thead>\n",
       "  <tbody>\n",
       "    <tr>\n",
       "      <th>count</th>\n",
       "      <td>4.553300e+04</td>\n",
       "      <td>4.553300e+04</td>\n",
       "      <td>45533.000000</td>\n",
       "      <td>45533.000000</td>\n",
       "      <td>37296.000000</td>\n",
       "      <td>45533.000000</td>\n",
       "      <td>45533.000000</td>\n",
       "      <td>33387.000000</td>\n",
       "      <td>45533.000000</td>\n",
       "      <td>45533.000000</td>\n",
       "      <td>45533.000000</td>\n",
       "    </tr>\n",
       "    <tr>\n",
       "      <th>mean</th>\n",
       "      <td>5.208941e+17</td>\n",
       "      <td>1.950473e+08</td>\n",
       "      <td>34.055308</td>\n",
       "      <td>-118.312743</td>\n",
       "      <td>289.377762</td>\n",
       "      <td>17.858520</td>\n",
       "      <td>36.658929</td>\n",
       "      <td>1.458020</td>\n",
       "      <td>18.604155</td>\n",
       "      <td>195.093449</td>\n",
       "      <td>8.459864</td>\n",
       "    </tr>\n",
       "    <tr>\n",
       "      <th>std</th>\n",
       "      <td>4.976570e+17</td>\n",
       "      <td>1.899825e+08</td>\n",
       "      <td>0.141394</td>\n",
       "      <td>0.172210</td>\n",
       "      <td>715.366985</td>\n",
       "      <td>28.836101</td>\n",
       "      <td>80.548528</td>\n",
       "      <td>1.719427</td>\n",
       "      <td>66.312446</td>\n",
       "      <td>133.394403</td>\n",
       "      <td>16.361008</td>\n",
       "    </tr>\n",
       "    <tr>\n",
       "      <th>min</th>\n",
       "      <td>1.090000e+02</td>\n",
       "      <td>5.210000e+02</td>\n",
       "      <td>33.338360</td>\n",
       "      <td>-118.917134</td>\n",
       "      <td>5.000000</td>\n",
       "      <td>1.000000</td>\n",
       "      <td>0.000000</td>\n",
       "      <td>0.010000</td>\n",
       "      <td>1.000000</td>\n",
       "      <td>0.000000</td>\n",
       "      <td>0.000000</td>\n",
       "    </tr>\n",
       "    <tr>\n",
       "      <th>25%</th>\n",
       "      <td>3.319485e+07</td>\n",
       "      <td>2.632699e+07</td>\n",
       "      <td>33.998590</td>\n",
       "      <td>-118.413090</td>\n",
       "      <td>98.000000</td>\n",
       "      <td>2.000000</td>\n",
       "      <td>0.000000</td>\n",
       "      <td>0.220000</td>\n",
       "      <td>1.000000</td>\n",
       "      <td>75.000000</td>\n",
       "      <td>0.000000</td>\n",
       "    </tr>\n",
       "    <tr>\n",
       "      <th>50%</th>\n",
       "      <td>6.363561e+17</td>\n",
       "      <td>1.165631e+08</td>\n",
       "      <td>34.060625</td>\n",
       "      <td>-118.343391</td>\n",
       "      <td>155.000000</td>\n",
       "      <td>14.000000</td>\n",
       "      <td>6.000000</td>\n",
       "      <td>0.790000</td>\n",
       "      <td>2.000000</td>\n",
       "      <td>202.000000</td>\n",
       "      <td>1.000000</td>\n",
       "    </tr>\n",
       "    <tr>\n",
       "      <th>75%</th>\n",
       "      <td>1.006571e+18</td>\n",
       "      <td>3.712316e+08</td>\n",
       "      <td>34.108160</td>\n",
       "      <td>-118.233737</td>\n",
       "      <td>260.000000</td>\n",
       "      <td>30.000000</td>\n",
       "      <td>34.000000</td>\n",
       "      <td>2.230000</td>\n",
       "      <td>9.000000</td>\n",
       "      <td>335.000000</td>\n",
       "      <td>9.000000</td>\n",
       "    </tr>\n",
       "    <tr>\n",
       "      <th>max</th>\n",
       "      <td>1.238217e+18</td>\n",
       "      <td>5.997497e+08</td>\n",
       "      <td>34.811183</td>\n",
       "      <td>-117.653352</td>\n",
       "      <td>56425.000000</td>\n",
       "      <td>1124.000000</td>\n",
       "      <td>3024.000000</td>\n",
       "      <td>55.490000</td>\n",
       "      <td>569.000000</td>\n",
       "      <td>365.000000</td>\n",
       "      <td>543.000000</td>\n",
       "    </tr>\n",
       "  </tbody>\n",
       "</table>\n",
       "</div>"
      ],
      "text/plain": [
       "                 id       host_id      latitude     longitude         price  \\\n",
       "count  4.553300e+04  4.553300e+04  45533.000000  45533.000000  37296.000000   \n",
       "mean   5.208941e+17  1.950473e+08     34.055308   -118.312743    289.377762   \n",
       "std    4.976570e+17  1.899825e+08      0.141394      0.172210    715.366985   \n",
       "min    1.090000e+02  5.210000e+02     33.338360   -118.917134      5.000000   \n",
       "25%    3.319485e+07  2.632699e+07     33.998590   -118.413090     98.000000   \n",
       "50%    6.363561e+17  1.165631e+08     34.060625   -118.343391    155.000000   \n",
       "75%    1.006571e+18  3.712316e+08     34.108160   -118.233737    260.000000   \n",
       "max    1.238217e+18  5.997497e+08     34.811183   -117.653352  56425.000000   \n",
       "\n",
       "       minimum_nights  number_of_reviews  reviews_per_month  \\\n",
       "count    45533.000000       45533.000000       33387.000000   \n",
       "mean        17.858520          36.658929           1.458020   \n",
       "std         28.836101          80.548528           1.719427   \n",
       "min          1.000000           0.000000           0.010000   \n",
       "25%          2.000000           0.000000           0.220000   \n",
       "50%         14.000000           6.000000           0.790000   \n",
       "75%         30.000000          34.000000           2.230000   \n",
       "max       1124.000000        3024.000000          55.490000   \n",
       "\n",
       "       calculated_host_listings_count  availability_365  number_of_reviews_ltm  \n",
       "count                    45533.000000      45533.000000           45533.000000  \n",
       "mean                        18.604155        195.093449               8.459864  \n",
       "std                         66.312446        133.394403              16.361008  \n",
       "min                          1.000000          0.000000               0.000000  \n",
       "25%                          1.000000         75.000000               0.000000  \n",
       "50%                          2.000000        202.000000               1.000000  \n",
       "75%                          9.000000        335.000000               9.000000  \n",
       "max                        569.000000        365.000000             543.000000  "
      ]
     },
     "execution_count": 6,
     "metadata": {},
     "output_type": "execute_result"
    }
   ],
   "source": [
    "df.describe()"
   ]
  },
  {
   "cell_type": "code",
   "execution_count": 7,
   "id": "a0202abd",
   "metadata": {},
   "outputs": [
    {
     "data": {
      "text/plain": [
       "id                                    0\n",
       "name                                  1\n",
       "host_id                               0\n",
       "host_name                             2\n",
       "neighbourhood_group                   0\n",
       "neighbourhood                         0\n",
       "latitude                              0\n",
       "longitude                             0\n",
       "room_type                             0\n",
       "price                              8237\n",
       "minimum_nights                        0\n",
       "number_of_reviews                     0\n",
       "last_review                       12146\n",
       "reviews_per_month                 12146\n",
       "calculated_host_listings_count        0\n",
       "availability_365                      0\n",
       "number_of_reviews_ltm                 0\n",
       "license                           32730\n",
       "dtype: int64"
      ]
     },
     "execution_count": 7,
     "metadata": {},
     "output_type": "execute_result"
    }
   ],
   "source": [
    "df.isnull().sum()"
   ]
  },
  {
   "cell_type": "code",
   "execution_count": 8,
   "id": "87cc00e0",
   "metadata": {},
   "outputs": [],
   "source": [
    "df.duplicated().sum()\n",
    "df.drop_duplicates(inplace=True)"
   ]
  },
  {
   "cell_type": "code",
   "execution_count": 9,
   "id": "07dbcf4b",
   "metadata": {},
   "outputs": [],
   "source": [
    "df.drop(['last_review', 'host_name', 'number_of_reviews_ltm', 'license','name'], axis=1, inplace=True)"
   ]
  },
  {
   "cell_type": "code",
   "execution_count": null,
   "id": "e3a7ea1f",
   "metadata": {},
   "outputs": [],
   "source": [
    "df['reviews_per_month'].fillna(0, inplace=True)\n",
    "df['reviews_per_month'] = df['reviews_per_month'].apply(lambda x: np.round(x) if x > 0 else 0)"
   ]
  },
  {
   "cell_type": "code",
   "execution_count": 10,
   "id": "31e52bdf",
   "metadata": {},
   "outputs": [
    {
     "data": {
      "text/plain": [
       "Index(['id', 'host_id', 'neighbourhood_group', 'neighbourhood', 'latitude',\n",
       "       'longitude', 'room_type', 'price', 'minimum_nights',\n",
       "       'number_of_reviews', 'reviews_per_month',\n",
       "       'calculated_host_listings_count', 'availability_365'],\n",
       "      dtype='object')"
      ]
     },
     "execution_count": 10,
     "metadata": {},
     "output_type": "execute_result"
    }
   ],
   "source": [
    "df.columns"
   ]
  },
  {
   "cell_type": "code",
   "execution_count": 12,
   "id": "88d17b06",
   "metadata": {},
   "outputs": [
    {
     "data": {
      "text/plain": [
       "(45533, 13)"
      ]
     },
     "execution_count": 12,
     "metadata": {},
     "output_type": "execute_result"
    }
   ],
   "source": [
    "df.shape"
   ]
  },
  {
   "cell_type": "code",
   "execution_count": 13,
   "id": "8d38d299",
   "metadata": {},
   "outputs": [
    {
     "data": {
      "text/html": [
       "<div>\n",
       "<style scoped>\n",
       "    .dataframe tbody tr th:only-of-type {\n",
       "        vertical-align: middle;\n",
       "    }\n",
       "\n",
       "    .dataframe tbody tr th {\n",
       "        vertical-align: top;\n",
       "    }\n",
       "\n",
       "    .dataframe thead th {\n",
       "        text-align: right;\n",
       "    }\n",
       "</style>\n",
       "<table border=\"1\" class=\"dataframe\">\n",
       "  <thead>\n",
       "    <tr style=\"text-align: right;\">\n",
       "      <th></th>\n",
       "      <th>price</th>\n",
       "      <th>neighbourhood</th>\n",
       "    </tr>\n",
       "  </thead>\n",
       "  <tbody>\n",
       "    <tr>\n",
       "      <th>0</th>\n",
       "      <td>NaN</td>\n",
       "      <td>Beverlywood</td>\n",
       "    </tr>\n",
       "    <tr>\n",
       "      <th>1</th>\n",
       "      <td>434.0</td>\n",
       "      <td>Beverly Hills</td>\n",
       "    </tr>\n",
       "    <tr>\n",
       "      <th>2</th>\n",
       "      <td>319.0</td>\n",
       "      <td>Beverly Hills</td>\n",
       "    </tr>\n",
       "    <tr>\n",
       "      <th>3</th>\n",
       "      <td>231.0</td>\n",
       "      <td>Santa Monica</td>\n",
       "    </tr>\n",
       "    <tr>\n",
       "      <th>4</th>\n",
       "      <td>110.0</td>\n",
       "      <td>Del Rey</td>\n",
       "    </tr>\n",
       "  </tbody>\n",
       "</table>\n",
       "</div>"
      ],
      "text/plain": [
       "   price  neighbourhood\n",
       "0    NaN    Beverlywood\n",
       "1  434.0  Beverly Hills\n",
       "2  319.0  Beverly Hills\n",
       "3  231.0   Santa Monica\n",
       "4  110.0        Del Rey"
      ]
     },
     "execution_count": 13,
     "metadata": {},
     "output_type": "execute_result"
    }
   ],
   "source": [
    "df_subset = df[['price', 'neighbourhood']]\n",
    "df_subset.head(5)"
   ]
  },
  {
   "cell_type": "code",
   "execution_count": 14,
   "id": "07acf2f1",
   "metadata": {
    "scrolled": true
   },
   "outputs": [
    {
     "data": {
      "text/plain": [
       "price            8237\n",
       "neighbourhood       0\n",
       "dtype: int64"
      ]
     },
     "execution_count": 14,
     "metadata": {},
     "output_type": "execute_result"
    }
   ],
   "source": [
    "df_subset.isnull().sum()"
   ]
  },
  {
   "cell_type": "code",
   "execution_count": 15,
   "id": "5c3f03c7",
   "metadata": {},
   "outputs": [],
   "source": [
    "df_subset = df_subset[df_subset['price'].notna()]"
   ]
  },
  {
   "cell_type": "code",
   "execution_count": 21,
   "id": "2bf59622",
   "metadata": {},
   "outputs": [
    {
     "name": "stdout",
     "output_type": "stream",
     "text": [
      "ANOVA F-statistic: 21.669949284742607\n",
      "ANOVA p-value: 0.0\n"
     ]
    }
   ],
   "source": [
    "import scipy.stats as stats\n",
    "\n",
    "f_stat, p_value = stats.f_oneway(*(df_subset[df_subset['neighbourhood'] == neighbourhood]['price'].dropna() for neighbourhood in df_subset['neighbourhood'].unique()))\n",
    "\n",
    "print(f\"ANOVA F-statistic: {f_stat}\")\n",
    "print(f\"ANOVA p-value: {p_value}\")"
   ]
  },
  {
   "cell_type": "code",
   "execution_count": 22,
   "id": "0fde2744",
   "metadata": {},
   "outputs": [],
   "source": [
    "df['price'] = df.groupby('neighbourhood')['price'].transform(lambda x: x.fillna(x.mean()))"
   ]
  },
  {
   "cell_type": "code",
   "execution_count": 28,
   "id": "f0fb19f6",
   "metadata": {},
   "outputs": [
    {
     "data": {
      "text/plain": [
       "id                                0\n",
       "host_id                           0\n",
       "neighbourhood_group               0\n",
       "neighbourhood                     0\n",
       "latitude                          0\n",
       "longitude                         0\n",
       "room_type                         0\n",
       "price                             1\n",
       "minimum_nights                    0\n",
       "number_of_reviews                 0\n",
       "reviews_per_month                 0\n",
       "calculated_host_listings_count    0\n",
       "availability_365                  0\n",
       "dtype: int64"
      ]
     },
     "execution_count": 28,
     "metadata": {},
     "output_type": "execute_result"
    }
   ],
   "source": [
    "df.isnull().sum()"
   ]
  },
  {
   "cell_type": "code",
   "execution_count": 27,
   "id": "f1d27e32",
   "metadata": {},
   "outputs": [],
   "source": [
    "corr = df.corr(method='kendall')\n",
    "plt.figure(figsize=(15,8))\n",
    "sns.heatmap(corr, annot=True)\n",
    "df.columns"
   ]
  },
  {
   "cell_type": "code",
   "execution_count": null,
   "id": "fe10915c",
   "metadata": {},
   "outputs": [],
   "source": []
  }
 ],
 "metadata": {
  "kernelspec": {
   "display_name": "Python 3",
   "language": "python",
   "name": "python3"
  },
  "language_info": {
   "codemirror_mode": {
    "name": "ipython",
    "version": 3
   },
   "file_extension": ".py",
   "mimetype": "text/x-python",
   "name": "python",
   "nbconvert_exporter": "python",
   "pygments_lexer": "ipython3",
   "version": "3.8.3"
  }
 },
 "nbformat": 4,
 "nbformat_minor": 5
}
